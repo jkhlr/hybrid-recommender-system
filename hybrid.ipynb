{
 "cells": [
  {
   "cell_type": "markdown",
   "metadata": {},
   "source": [
    "# Hybrid Recommender Systems\n",
    "In this session, we will look at recommender systems that combine collaborative filtering and content-based methods.\n",
    "The focus of this hands-on exercise is on understanding how those two methods can be combined. \n",
    "The `wine-reviews` dataset from the last session is reused in a slightly different format."
   ]
  },
  {
   "cell_type": "code",
   "execution_count": 1,
   "metadata": {},
   "outputs": [],
   "source": [
    "import numpy as np\n",
    "import pandas as pd \n",
    "import surprise as sp"
   ]
  },
  {
   "cell_type": "code",
   "execution_count": 2,
   "metadata": {},
   "outputs": [],
   "source": [
    "# data parsing\n",
    "parsed_data = pd.read_csv(\"wine-reviews/winemag-data-130k-v2.csv\")\n",
    "filtered_data = parsed_data[['country','province','region_1','variety','price','taster_name','points']]\n",
    "cleaned_data = filtered_data.rename(columns={'region_1': 'region'}).dropna(subset=['country','province','region','variety','taster_name','points'])\n",
    "\n",
    "# group all wines from a region that have the same variety, assign mean price\n",
    "wines_all = cleaned_data.groupby(['country', 'province', 'region', 'variety']).agg({'price': 'mean'}).reset_index()\n",
    "wines_all = wines_all.assign(id=pd.Series(range(1, wines_all.shape[0]+1), dtype=int, index=wines_all.index))\n",
    "wines_all = wines_all[['id', 'country', 'province', 'region', 'variety', 'price']]\n",
    "\n",
    "users_all = cleaned_data.groupby('taster_name').count().reset_index()[['taster_name']]\n",
    "users_all = users_all.assign(id=pd.Series(range(1, users_all.shape[0]+1), dtype=int, index=users_all.index))\n",
    "\n",
    "# link ratings to wines and users via id\n",
    "wine_id_translator = {(row['country'], row['province'], row['region'], row['variety']): row['id'] for index, row in wines_all.iterrows()}\n",
    "user_id_translator = {row['taster_name']: row['id'] for index, row in users_all.iterrows()}\n",
    "def get_wine_id_series(data_frame):\n",
    "    return pd.Series((wine_id_translator[(row['country'], row['province'], row['region'], row['variety'])] for _, row in data_frame.iterrows()), index=data_frame.index)\n",
    "def get_user_id_series(data_frame):\n",
    "    return pd.Series((user_id_translator[row['taster_name']] for _, row in data_frame.iterrows()), index=data_frame.index)\n",
    "\n",
    "# aggregate average points of all ratings from a user for a wine\n",
    "ratings_all = cleaned_data.assign(wine_id=get_wine_id_series, user_id=get_user_id_series)[['taster_name', 'user_id', 'wine_id', 'points']].groupby(['user_id', 'taster_name', 'wine_id']).mean().reset_index()\n",
    "\n",
    "# only include wines that have 3 or more ratings\n",
    "most_rated_wines = list(ratings_all.groupby(['wine_id']).count()[lambda x: x['points'] >= 3].reset_index()['wine_id'].values)\n",
    "\n",
    "ratings = ratings_all.loc[ratings_all['wine_id'].isin(most_rated_wines)].astype({'wine_id': int, 'user_id': int}).reset_index(drop=True)\n",
    "wines = wines_all.loc[wines_all['id'].isin(most_rated_wines)].astype({'id': int}).reset_index(drop=True)\n",
    "users = users_all.loc[users_all['id'].isin(ratings['user_id'].values)].astype({'id': int}).reset_index(drop=True)"
   ]
  },
  {
   "cell_type": "markdown",
   "metadata": {},
   "source": [
    "## Wines"
   ]
  },
  {
   "cell_type": "code",
   "execution_count": 3,
   "metadata": {},
   "outputs": [
    {
     "data": {
      "text/html": [
       "<div>\n",
       "<style scoped>\n",
       "    .dataframe tbody tr th:only-of-type {\n",
       "        vertical-align: middle;\n",
       "    }\n",
       "\n",
       "    .dataframe tbody tr th {\n",
       "        vertical-align: top;\n",
       "    }\n",
       "\n",
       "    .dataframe thead th {\n",
       "        text-align: right;\n",
       "    }\n",
       "</style>\n",
       "<table border=\"1\" class=\"dataframe\">\n",
       "  <thead>\n",
       "    <tr style=\"text-align: right;\">\n",
       "      <th></th>\n",
       "      <th>id</th>\n",
       "      <th>country</th>\n",
       "      <th>province</th>\n",
       "      <th>region</th>\n",
       "      <th>variety</th>\n",
       "      <th>price</th>\n",
       "    </tr>\n",
       "  </thead>\n",
       "  <tbody>\n",
       "    <tr>\n",
       "      <th>0</th>\n",
       "      <td>739</td>\n",
       "      <td>Canada</td>\n",
       "      <td>Ontario</td>\n",
       "      <td>Niagara Peninsula</td>\n",
       "      <td>Riesling</td>\n",
       "      <td>42.423077</td>\n",
       "    </tr>\n",
       "    <tr>\n",
       "      <th>1</th>\n",
       "      <td>741</td>\n",
       "      <td>Canada</td>\n",
       "      <td>Ontario</td>\n",
       "      <td>Niagara Peninsula</td>\n",
       "      <td>Vidal Blanc</td>\n",
       "      <td>62.615385</td>\n",
       "    </tr>\n",
       "    <tr>\n",
       "      <th>2</th>\n",
       "      <td>757</td>\n",
       "      <td>France</td>\n",
       "      <td>Alsace</td>\n",
       "      <td>Alsace</td>\n",
       "      <td>Gewürztraminer</td>\n",
       "      <td>34.206897</td>\n",
       "    </tr>\n",
       "    <tr>\n",
       "      <th>3</th>\n",
       "      <td>760</td>\n",
       "      <td>France</td>\n",
       "      <td>Alsace</td>\n",
       "      <td>Alsace</td>\n",
       "      <td>Pinot Blanc</td>\n",
       "      <td>17.622047</td>\n",
       "    </tr>\n",
       "    <tr>\n",
       "      <th>4</th>\n",
       "      <td>778</td>\n",
       "      <td>France</td>\n",
       "      <td>Alsace</td>\n",
       "      <td>Crémant d'Alsace</td>\n",
       "      <td>Sparkling Blend</td>\n",
       "      <td>24.886256</td>\n",
       "    </tr>\n",
       "  </tbody>\n",
       "</table>\n",
       "</div>"
      ],
      "text/plain": [
       "    id country province             region          variety      price\n",
       "0  739  Canada  Ontario  Niagara Peninsula         Riesling  42.423077\n",
       "1  741  Canada  Ontario  Niagara Peninsula      Vidal Blanc  62.615385\n",
       "2  757  France   Alsace             Alsace   Gewürztraminer  34.206897\n",
       "3  760  France   Alsace             Alsace      Pinot Blanc  17.622047\n",
       "4  778  France   Alsace   Crémant d'Alsace  Sparkling Blend  24.886256"
      ]
     },
     "execution_count": 3,
     "metadata": {},
     "output_type": "execute_result"
    }
   ],
   "source": [
    "wines.head()"
   ]
  },
  {
   "cell_type": "markdown",
   "metadata": {},
   "source": [
    "## Ratings"
   ]
  },
  {
   "cell_type": "code",
   "execution_count": 4,
   "metadata": {},
   "outputs": [
    {
     "data": {
      "text/html": [
       "<div>\n",
       "<style scoped>\n",
       "    .dataframe tbody tr th:only-of-type {\n",
       "        vertical-align: middle;\n",
       "    }\n",
       "\n",
       "    .dataframe tbody tr th {\n",
       "        vertical-align: top;\n",
       "    }\n",
       "\n",
       "    .dataframe thead th {\n",
       "        text-align: right;\n",
       "    }\n",
       "</style>\n",
       "<table border=\"1\" class=\"dataframe\">\n",
       "  <thead>\n",
       "    <tr style=\"text-align: right;\">\n",
       "      <th></th>\n",
       "      <th>user_id</th>\n",
       "      <th>taster_name</th>\n",
       "      <th>wine_id</th>\n",
       "      <th>points</th>\n",
       "    </tr>\n",
       "  </thead>\n",
       "  <tbody>\n",
       "    <tr>\n",
       "      <th>0</th>\n",
       "      <td>1</td>\n",
       "      <td>Alexander Peartree</td>\n",
       "      <td>5069</td>\n",
       "      <td>87.666667</td>\n",
       "    </tr>\n",
       "    <tr>\n",
       "      <th>1</th>\n",
       "      <td>1</td>\n",
       "      <td>Alexander Peartree</td>\n",
       "      <td>5737</td>\n",
       "      <td>89.000000</td>\n",
       "    </tr>\n",
       "    <tr>\n",
       "      <th>2</th>\n",
       "      <td>1</td>\n",
       "      <td>Alexander Peartree</td>\n",
       "      <td>5738</td>\n",
       "      <td>86.750000</td>\n",
       "    </tr>\n",
       "    <tr>\n",
       "      <th>3</th>\n",
       "      <td>1</td>\n",
       "      <td>Alexander Peartree</td>\n",
       "      <td>5741</td>\n",
       "      <td>86.250000</td>\n",
       "    </tr>\n",
       "    <tr>\n",
       "      <th>4</th>\n",
       "      <td>1</td>\n",
       "      <td>Alexander Peartree</td>\n",
       "      <td>5743</td>\n",
       "      <td>88.000000</td>\n",
       "    </tr>\n",
       "  </tbody>\n",
       "</table>\n",
       "</div>"
      ],
      "text/plain": [
       "   user_id         taster_name  wine_id     points\n",
       "0        1  Alexander Peartree     5069  87.666667\n",
       "1        1  Alexander Peartree     5737  89.000000\n",
       "2        1  Alexander Peartree     5738  86.750000\n",
       "3        1  Alexander Peartree     5741  86.250000\n",
       "4        1  Alexander Peartree     5743  88.000000"
      ]
     },
     "execution_count": 4,
     "metadata": {},
     "output_type": "execute_result"
    }
   ],
   "source": [
    "ratings.head()"
   ]
  },
  {
   "cell_type": "markdown",
   "metadata": {},
   "source": [
    "## Users"
   ]
  },
  {
   "cell_type": "code",
   "execution_count": 5,
   "metadata": {},
   "outputs": [
    {
     "data": {
      "text/html": [
       "<div>\n",
       "<style scoped>\n",
       "    .dataframe tbody tr th:only-of-type {\n",
       "        vertical-align: middle;\n",
       "    }\n",
       "\n",
       "    .dataframe tbody tr th {\n",
       "        vertical-align: top;\n",
       "    }\n",
       "\n",
       "    .dataframe thead th {\n",
       "        text-align: right;\n",
       "    }\n",
       "</style>\n",
       "<table border=\"1\" class=\"dataframe\">\n",
       "  <thead>\n",
       "    <tr style=\"text-align: right;\">\n",
       "      <th></th>\n",
       "      <th>taster_name</th>\n",
       "      <th>id</th>\n",
       "    </tr>\n",
       "  </thead>\n",
       "  <tbody>\n",
       "    <tr>\n",
       "      <th>0</th>\n",
       "      <td>Alexander Peartree</td>\n",
       "      <td>1</td>\n",
       "    </tr>\n",
       "    <tr>\n",
       "      <th>1</th>\n",
       "      <td>Anna Lee C. Iijima</td>\n",
       "      <td>2</td>\n",
       "    </tr>\n",
       "    <tr>\n",
       "      <th>2</th>\n",
       "      <td>Anne Krebiehl MW</td>\n",
       "      <td>3</td>\n",
       "    </tr>\n",
       "    <tr>\n",
       "      <th>3</th>\n",
       "      <td>Carrie Dykes</td>\n",
       "      <td>4</td>\n",
       "    </tr>\n",
       "    <tr>\n",
       "      <th>4</th>\n",
       "      <td>Christina Pickard</td>\n",
       "      <td>5</td>\n",
       "    </tr>\n",
       "  </tbody>\n",
       "</table>\n",
       "</div>"
      ],
      "text/plain": [
       "          taster_name  id\n",
       "0  Alexander Peartree   1\n",
       "1  Anna Lee C. Iijima   2\n",
       "2    Anne Krebiehl MW   3\n",
       "3        Carrie Dykes   4\n",
       "4   Christina Pickard   5"
      ]
     },
     "execution_count": 5,
     "metadata": {},
     "output_type": "execute_result"
    }
   ],
   "source": [
    "users.head()"
   ]
  },
  {
   "cell_type": "markdown",
   "metadata": {},
   "source": [
    "## Collaborative Filtering\n",
    "`predict_cf` returns the predicted rating of the user with name `taster_name` for item with id `wine_id`.\n",
    "The function uses a KNN classifier. To train the model, all other ratings are used.\n",
    "The error and the actual rating is returned as well."
   ]
  },
  {
   "cell_type": "code",
   "execution_count": 6,
   "metadata": {},
   "outputs": [],
   "source": [
    "# Collaborative Filtering\n",
    "\n",
    "def predict_cf(ratings, taster_name, wine_id):\n",
    "    is_target = (ratings['taster_name'] == taster_name) & (ratings['wine_id'] == wine_id)\n",
    "    target = ratings[is_target].iloc[0]\n",
    "    \n",
    "    train_set = sp.Dataset.load_from_df(\n",
    "        ratings[~is_target][['user_id', 'wine_id', 'points']], \n",
    "        sp.Reader(rating_scale=(0, 100))\n",
    "    ).build_full_trainset()\n",
    "\n",
    "    algo = sp.KNNBasic(verbose=False)\n",
    "    algo.fit(train_set)\n",
    "    prediction = algo.predict(target['user_id'], target['wine_id'], verbose=False)\n",
    "    return prediction.est, prediction.est - target['points'], target['points']"
   ]
  },
  {
   "cell_type": "markdown",
   "metadata": {},
   "source": [
    "## Content-Based\n",
    "`predict_cn` returns the predicted rating of the user with name `taster_name` for item with id `wine_id`.\n",
    "The function also uses a KNN classifier. To train the model, all other ratings from the same user, as well as the wine database are used.\n",
    "The error and the actual rating is returned as well."
   ]
  },
  {
   "cell_type": "code",
   "execution_count": 7,
   "metadata": {},
   "outputs": [],
   "source": [
    "# Content-Based\n",
    "\n",
    "from sklearn.preprocessing import LabelEncoder, MinMaxScaler\n",
    "from sklearn.neighbors import KNeighborsClassifier\n",
    "\n",
    "def predict_cn(ratings, wines, taster_name, wine_id):\n",
    "    user_ratings = ratings[ratings['taster_name'] == taster_name].join(wines.set_index('id'), on='wine_id')\n",
    "    is_target = (user_ratings['wine_id'] == wine_id)\n",
    "    \n",
    "    features = pd.get_dummies(user_ratings.drop(columns=['points']))\n",
    "    train_features = features[~is_target]\n",
    "    target_features = features[is_target]\n",
    "    \n",
    "    encoder = LabelEncoder()\n",
    "    train_labels = encoder.fit_transform(user_ratings[~is_target]['points'])\n",
    "    target_label = user_ratings[is_target]['points'].iloc[0]\n",
    "\n",
    "    clf = KNeighborsClassifier(n_neighbors=1)\n",
    "    clf.fit(train_features, train_labels)\n",
    "    prediction = encoder.inverse_transform(clf.predict(target_features))[0]\n",
    "    return prediction, prediction - target_label, target_label"
   ]
  },
  {
   "cell_type": "markdown",
   "metadata": {},
   "source": [
    "## Testing the Recommenders"
   ]
  },
  {
   "cell_type": "code",
   "execution_count": 8,
   "metadata": {},
   "outputs": [],
   "source": [
    "def test_classifier(taster_name, wine_id):\n",
    "    pred_cf, error_cf, truth = predict_cf(ratings, taster_name, wine_id)\n",
    "    pred_cn, error_cn, truth = predict_cn(ratings, wines, taster_name, wine_id)\n",
    "    print(\"Results for {} on wine with id {}:\".format(taster_name, wine_id))\n",
    "    print(\"Collaborative Filtering: \\t prediction: {:.5f} \\t error: {:.5f}\".format(pred_cf, error_cf))\n",
    "    print(\"Content-Based: \\t\\t\\t prediction: {:.5f} \\t error: {:.5f}\".format(pred_cn, error_cn))"
   ]
  },
  {
   "cell_type": "code",
   "execution_count": 9,
   "metadata": {},
   "outputs": [
    {
     "name": "stdout",
     "output_type": "stream",
     "text": [
      "Results for Anna Lee C. Iijima on wine with id 741:\n",
      "Collaborative Filtering: \t prediction: 89.65560 \t error: -0.01107\n",
      "Content-Based: \t\t\t prediction: 89.50000 \t error: -0.16667\n"
     ]
    }
   ],
   "source": [
    "test_classifier(taster_name='Anna Lee C. Iijima', wine_id=741)"
   ]
  },
  {
   "cell_type": "code",
   "execution_count": 10,
   "metadata": {},
   "outputs": [
    {
     "name": "stdout",
     "output_type": "stream",
     "text": [
      "Results for Virginie Boone on wine with id 4147:\n",
      "Collaborative Filtering: \t prediction: 87.93883 \t error: 2.83883\n",
      "Content-Based: \t\t\t prediction: 85.50000 \t error: 0.40000\n"
     ]
    }
   ],
   "source": [
    "test_classifier(taster_name='Virginie Boone', wine_id=4147)"
   ]
  },
  {
   "cell_type": "markdown",
   "metadata": {},
   "source": [
    "## Exercise 1: Weighted Recommender\n",
    "Create a weighted recommender, combining the results of `predict_cf` and `predict_cn`. The weights should be static."
   ]
  },
  {
   "cell_type": "code",
   "execution_count": null,
   "metadata": {},
   "outputs": [],
   "source": [
    "def predict_weighted(ratings, wines, taster_name, wine_id):\n",
    "    # Your code goes here\n",
    "    return prediction, error, truth\n",
    "\n",
    "\n",
    "pred_weighted, error_weighted, truth = predict_weighted(ratings, wines, taster_name='Anna Lee C. Iijima', wine_id=741)\n",
    "print(\"Weighted Hybrid: \\t prediction: {:.5f} \\t error: {:.5f}\".format(pred_weighted, error_weighted))"
   ]
  },
  {
   "cell_type": "markdown",
   "metadata": {},
   "source": [
    "## Exercise 2: Feature Combination\n",
    "Use the Feature Combination method to improve the data (i.e. the wine database) that is used by `pedict_cn`. \n",
    "To do a Matrix Factorization, the `NMF` class from `sklearn.decomposition` can be used."
   ]
  },
  {
   "cell_type": "code",
   "execution_count": null,
   "metadata": {},
   "outputs": [],
   "source": [
    "wines_plus = # Your code goes here\n",
    "\n",
    "\n",
    "pred_weighted, error_weighted, truth = predict_cn(ratings, wines_plus, taster_name='Anna Lee C. Iijima', wine_id=741)\n",
    "print(\"Weighted Hybrid: \\t prediction: {:.5f} \\t error: {:.5f}\".format(pred_weighted, error_weighted))"
   ]
  },
  {
   "cell_type": "markdown",
   "metadata": {},
   "source": [
    "## Bonus Exercise: Switching Hybrid\n",
    "In Exercise 1 we have seen that for different users/items, different recommenders performe better. Implement a switching hybrid that determines which method to use depending on the input (e.g. by looking on the number of ratings for each user/item)."
   ]
  },
  {
   "cell_type": "code",
   "execution_count": null,
   "metadata": {},
   "outputs": [],
   "source": [
    "def predict_switching(ratings, wines, taster_name, wine_id):\n",
    "    # Your code goes here\n",
    "    return prediction, error, truth\n",
    "\n",
    "\n",
    "pred, error, truth = predict_switching(ratings, wines, taster_name='Anna Lee C. Iijima', wine_id=741)\n",
    "print(\"Switching Hybrid: \\t prediction: {:.5f} \\t error: {:.5f}\".format(pred_weighted, error_weighted))"
   ]
  }
 ],
 "metadata": {
  "kernelspec": {
   "display_name": "Python 3",
   "language": "python",
   "name": "python3"
  },
  "language_info": {
   "codemirror_mode": {
    "name": "ipython",
    "version": 3
   },
   "file_extension": ".py",
   "mimetype": "text/x-python",
   "name": "python",
   "nbconvert_exporter": "python",
   "pygments_lexer": "ipython3",
   "version": "3.6.4"
  }
 },
 "nbformat": 4,
 "nbformat_minor": 2
}
